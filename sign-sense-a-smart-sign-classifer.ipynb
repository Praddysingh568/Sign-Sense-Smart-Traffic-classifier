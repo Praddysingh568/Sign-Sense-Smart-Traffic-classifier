{
 "cells": [
  {
   "cell_type": "markdown",
   "id": "6a9bcbe6",
   "metadata": {
    "papermill": {
     "duration": 0.005708,
     "end_time": "2023-10-26T04:20:36.975645",
     "exception": false,
     "start_time": "2023-10-26T04:20:36.969937",
     "status": "completed"
    },
    "tags": []
   },
   "source": [
    "# **Importing libraries**"
   ]
  },
  {
   "cell_type": "code",
   "execution_count": 1,
   "id": "ee8802d2",
   "metadata": {
    "execution": {
     "iopub.execute_input": "2023-10-26T04:20:36.992828Z",
     "iopub.status.busy": "2023-10-26T04:20:36.992030Z",
     "iopub.status.idle": "2023-10-26T04:20:47.893633Z",
     "shell.execute_reply": "2023-10-26T04:20:47.892081Z"
    },
    "papermill": {
     "duration": 10.913727,
     "end_time": "2023-10-26T04:20:47.896593",
     "exception": false,
     "start_time": "2023-10-26T04:20:36.982866",
     "status": "completed"
    },
    "tags": []
   },
   "outputs": [],
   "source": [
    "import os\n",
    "import numpy as np\n",
    "import pandas as pd\n",
    "import matplotlib.pyplot as plt\n",
    "from PIL import Image\n",
    "from sklearn.model_selection import train_test_split\n",
    "import tensorflow as tf\n",
    "from tensorflow.keras.utils import to_categorical\n",
    "from tensorflow.keras.models import Sequential\n",
    "from keras.layers import Conv2D, Dense, Flatten, MaxPool2D, Dropout\n",
    "from keras.models import load_model"
   ]
  },
  {
   "cell_type": "markdown",
   "id": "a7d0818a",
   "metadata": {
    "papermill": {
     "duration": 0.004888,
     "end_time": "2023-10-26T04:20:47.907046",
     "exception": false,
     "start_time": "2023-10-26T04:20:47.902158",
     "status": "completed"
    },
    "tags": []
   },
   "source": [
    "# Data Processing (Resize,change datatype,split train test)"
   ]
  },
  {
   "cell_type": "code",
   "execution_count": 2,
   "id": "417f58a9",
   "metadata": {
    "execution": {
     "iopub.execute_input": "2023-10-26T04:20:47.919894Z",
     "iopub.status.busy": "2023-10-26T04:20:47.919176Z",
     "iopub.status.idle": "2023-10-26T04:24:51.482176Z",
     "shell.execute_reply": "2023-10-26T04:24:51.481020Z"
    },
    "papermill": {
     "duration": 243.578278,
     "end_time": "2023-10-26T04:24:51.490564",
     "exception": false,
     "start_time": "2023-10-26T04:20:47.912286",
     "status": "completed"
    },
    "tags": []
   },
   "outputs": [
    {
     "name": "stdout",
     "output_type": "stream",
     "text": [
      "data[0]:  [[[255 253 214]\n",
      "  [255 253 215]\n",
      "  [255 251 216]\n",
      "  ...\n",
      "  [239 222 186]\n",
      "  [236 220 185]\n",
      "  [235 217 183]]\n",
      "\n",
      " [[255 255 230]\n",
      "  [255 255 229]\n",
      "  [255 255 230]\n",
      "  ...\n",
      "  [254 241 204]\n",
      "  [254 240 202]\n",
      "  [253 239 202]]\n",
      "\n",
      " [[255 255 240]\n",
      "  [255 255 237]\n",
      "  [255 255 234]\n",
      "  ...\n",
      "  [255 247 206]\n",
      "  [254 246 207]\n",
      "  [254 244 208]]\n",
      "\n",
      " ...\n",
      "\n",
      " [[255 255 229]\n",
      "  [255 255 226]\n",
      "  [255 255 222]\n",
      "  ...\n",
      "  [182 170 140]\n",
      "  [180 167 137]\n",
      "  [179 166 137]]\n",
      "\n",
      " [[255 255 229]\n",
      "  [255 255 224]\n",
      "  [255 255 222]\n",
      "  ...\n",
      "  [195 182 151]\n",
      "  [191 180 149]\n",
      "  [191 179 147]]\n",
      "\n",
      " [[255 255 227]\n",
      "  [255 255 226]\n",
      "  [255 255 224]\n",
      "  ...\n",
      "  [203 191 157]\n",
      "  [201 190 157]\n",
      "  [201 187 155]]]\n",
      "labels[0: ] 0\n"
     ]
    }
   ],
   "source": [
    "imgs_path = \"/kaggle/input/gtsrb-german-traffic-sign/Train\"\n",
    "data = []\n",
    "labels = []\n",
    "CLASSES = 43\n",
    "# using for loop to access each image\n",
    "for i in range(CLASSES):\n",
    "    img_path = os.path.join(imgs_path, str(i)) #0-42\n",
    "    for img in os.listdir(img_path):\n",
    "        im = Image.open(imgs_path + '/' + str(i) + '/' + img)\n",
    "        im = im.resize((30,30))\n",
    "        im = np.array(im)\n",
    "        data.append(im)\n",
    "        labels.append(i)\n",
    "data = np.array(data)\n",
    "labels = np.array(labels)\n",
    "print(\"data[0]: \",data[0])\n",
    "print(\"labels[0: ]\",labels[0])"
   ]
  },
  {
   "cell_type": "code",
   "execution_count": 3,
   "id": "44a82cdf",
   "metadata": {
    "execution": {
     "iopub.execute_input": "2023-10-26T04:24:51.503852Z",
     "iopub.status.busy": "2023-10-26T04:24:51.503106Z",
     "iopub.status.idle": "2023-10-26T04:24:51.564830Z",
     "shell.execute_reply": "2023-10-26T04:24:51.563649Z"
    },
    "papermill": {
     "duration": 0.071251,
     "end_time": "2023-10-26T04:24:51.567203",
     "exception": false,
     "start_time": "2023-10-26T04:24:51.495952",
     "status": "completed"
    },
    "tags": []
   },
   "outputs": [
    {
     "name": "stdout",
     "output_type": "stream",
     "text": [
      "training shape:  (31367, 30, 30, 3) (31367,)\n",
      "testing shape:  (7842, 30, 30, 3) (7842,)\n",
      "[0. 0. 0. 0. 0. 0. 0. 0. 0. 0. 0. 0. 0. 0. 0. 0. 0. 0. 0. 0. 0. 0. 0. 0.\n",
      " 0. 0. 0. 0. 1. 0. 0. 0. 0. 0. 0. 0. 0. 0. 0. 0. 0. 0. 0.]\n"
     ]
    }
   ],
   "source": [
    "x_train, x_test, y_train, y_test = train_test_split(data, labels, test_size=0.2, random_state=42)\n",
    "print(\"training shape: \",x_train.shape, y_train.shape)\n",
    "print(\"testing shape: \",x_test.shape, y_test.shape)\n",
    "# convert interge label to one-hot data\n",
    "y_train = to_categorical(y_train, 43)\n",
    "y_test = to_categorical(y_test, 43)\n",
    "\n",
    "print(y_train[1])\n"
   ]
  },
  {
   "cell_type": "markdown",
   "id": "e44983f3",
   "metadata": {
    "papermill": {
     "duration": 0.005338,
     "end_time": "2023-10-26T04:24:51.578629",
     "exception": false,
     "start_time": "2023-10-26T04:24:51.573291",
     "status": "completed"
    },
    "tags": []
   },
   "source": [
    "# Build model by keras"
   ]
  },
  {
   "cell_type": "code",
   "execution_count": 4,
   "id": "9030a5fc",
   "metadata": {
    "execution": {
     "iopub.execute_input": "2023-10-26T04:24:51.591743Z",
     "iopub.status.busy": "2023-10-26T04:24:51.591037Z",
     "iopub.status.idle": "2023-10-26T04:24:51.921116Z",
     "shell.execute_reply": "2023-10-26T04:24:51.919567Z"
    },
    "papermill": {
     "duration": 0.344795,
     "end_time": "2023-10-26T04:24:51.928900",
     "exception": false,
     "start_time": "2023-10-26T04:24:51.584105",
     "status": "completed"
    },
    "tags": []
   },
   "outputs": [
    {
     "name": "stdout",
     "output_type": "stream",
     "text": [
      "Model: \"sequential\"\n",
      "_________________________________________________________________\n",
      " Layer (type)                Output Shape              Param #   \n",
      "=================================================================\n",
      " conv2d (Conv2D)             (None, 26, 26, 32)        2432      \n",
      "                                                                 \n",
      " conv2d_1 (Conv2D)           (None, 22, 22, 32)        25632     \n",
      "                                                                 \n",
      " max_pooling2d (MaxPooling2D  (None, 11, 11, 32)       0         \n",
      " )                                                               \n",
      "                                                                 \n",
      " dropout (Dropout)           (None, 11, 11, 32)        0         \n",
      "                                                                 \n",
      " conv2d_2 (Conv2D)           (None, 9, 9, 64)          18496     \n",
      "                                                                 \n",
      " conv2d_3 (Conv2D)           (None, 7, 7, 64)          36928     \n",
      "                                                                 \n",
      " max_pooling2d_1 (MaxPooling  (None, 3, 3, 64)         0         \n",
      " 2D)                                                             \n",
      "                                                                 \n",
      " dropout_1 (Dropout)         (None, 3, 3, 64)          0         \n",
      "                                                                 \n",
      " flatten (Flatten)           (None, 576)               0         \n",
      "                                                                 \n",
      " dense (Dense)               (None, 256)               147712    \n",
      "                                                                 \n",
      " dropout_2 (Dropout)         (None, 256)               0         \n",
      "                                                                 \n",
      " dense_1 (Dense)             (None, 43)                11051     \n",
      "                                                                 \n",
      "=================================================================\n",
      "Total params: 242,251\n",
      "Trainable params: 242,251\n",
      "Non-trainable params: 0\n",
      "_________________________________________________________________\n"
     ]
    }
   ],
   "source": [
    "model = Sequential()\n",
    "model.add(Conv2D(filters=32, kernel_size=(5,5), activation=\"relu\", input_shape=x_train.shape[1:]))\n",
    "model.add(Conv2D(filters=32, kernel_size=(5,5), activation=\"relu\"))\n",
    "model.add(MaxPool2D(pool_size=(2,2)))\n",
    "model.add(Dropout(rate=0.25))\n",
    "model.add(Conv2D(filters=64, kernel_size=(3,3), activation=\"relu\"))\n",
    "model.add(Conv2D(filters=64, kernel_size=(3,3), activation=\"relu\"))\n",
    "model.add(MaxPool2D(pool_size=(2,2)))\n",
    "model.add(Dropout(rate=0.25))\n",
    "model.add(Flatten())\n",
    "model.add(Dense(256, activation=\"relu\"))\n",
    "model.add(Dropout(rate=0.5))\n",
    "model.add(Dense(43, activation=\"softmax\"))\n",
    "\n",
    "\n",
    "model.summary()"
   ]
  },
  {
   "cell_type": "markdown",
   "id": "cd6cdd11",
   "metadata": {
    "papermill": {
     "duration": 0.008306,
     "end_time": "2023-10-26T04:24:51.946298",
     "exception": false,
     "start_time": "2023-10-26T04:24:51.937992",
     "status": "completed"
    },
    "tags": []
   },
   "source": [
    "# **Training the model**"
   ]
  },
  {
   "cell_type": "code",
   "execution_count": 5,
   "id": "8bcf4b22",
   "metadata": {
    "execution": {
     "iopub.execute_input": "2023-10-26T04:24:51.966552Z",
     "iopub.status.busy": "2023-10-26T04:24:51.966095Z",
     "iopub.status.idle": "2023-10-26T04:24:51.994513Z",
     "shell.execute_reply": "2023-10-26T04:24:51.993123Z"
    },
    "papermill": {
     "duration": 0.042615,
     "end_time": "2023-10-26T04:24:51.997502",
     "exception": false,
     "start_time": "2023-10-26T04:24:51.954887",
     "status": "completed"
    },
    "tags": []
   },
   "outputs": [],
   "source": [
    "model.compile(loss=\"categorical_crossentropy\", optimizer=\"adam\", metrics=[\"accuracy\"])"
   ]
  },
  {
   "cell_type": "code",
   "execution_count": 6,
   "id": "fe442e1a",
   "metadata": {
    "execution": {
     "iopub.execute_input": "2023-10-26T04:24:52.017113Z",
     "iopub.status.busy": "2023-10-26T04:24:52.016646Z",
     "iopub.status.idle": "2023-10-26T04:55:01.211988Z",
     "shell.execute_reply": "2023-10-26T04:55:01.210320Z"
    },
    "papermill": {
     "duration": 1809.208644,
     "end_time": "2023-10-26T04:55:01.215072",
     "exception": false,
     "start_time": "2023-10-26T04:24:52.006428",
     "status": "completed"
    },
    "tags": []
   },
   "outputs": [
    {
     "name": "stdout",
     "output_type": "stream",
     "text": [
      "Epoch 1/20\n",
      "491/491 [==============================] - 91s 183ms/step - loss: 2.1525 - accuracy: 0.4752 - val_loss: 0.5531 - val_accuracy: 0.8698\n",
      "Epoch 2/20\n",
      "491/491 [==============================] - 89s 182ms/step - loss: 0.6685 - accuracy: 0.8120 - val_loss: 0.1817 - val_accuracy: 0.9572\n",
      "Epoch 3/20\n",
      "491/491 [==============================] - 89s 181ms/step - loss: 0.3689 - accuracy: 0.8955 - val_loss: 0.1167 - val_accuracy: 0.9744\n",
      "Epoch 4/20\n",
      "491/491 [==============================] - 89s 182ms/step - loss: 0.2679 - accuracy: 0.9235 - val_loss: 0.0837 - val_accuracy: 0.9807\n",
      "Epoch 5/20\n",
      "491/491 [==============================] - 89s 182ms/step - loss: 0.2287 - accuracy: 0.9345 - val_loss: 0.0865 - val_accuracy: 0.9802\n",
      "Epoch 6/20\n",
      "491/491 [==============================] - 89s 182ms/step - loss: 0.1814 - accuracy: 0.9499 - val_loss: 0.0483 - val_accuracy: 0.9875\n",
      "Epoch 7/20\n",
      "491/491 [==============================] - 89s 182ms/step - loss: 0.1871 - accuracy: 0.9476 - val_loss: 0.0579 - val_accuracy: 0.9864\n",
      "Epoch 8/20\n",
      "491/491 [==============================] - 90s 184ms/step - loss: 0.1560 - accuracy: 0.9567 - val_loss: 0.0578 - val_accuracy: 0.9844\n",
      "Epoch 9/20\n",
      "491/491 [==============================] - 90s 183ms/step - loss: 0.1499 - accuracy: 0.9587 - val_loss: 0.0457 - val_accuracy: 0.9892\n",
      "Epoch 10/20\n",
      "491/491 [==============================] - 91s 185ms/step - loss: 0.1324 - accuracy: 0.9656 - val_loss: 0.0352 - val_accuracy: 0.9908\n",
      "Epoch 11/20\n",
      "491/491 [==============================] - 90s 184ms/step - loss: 0.1301 - accuracy: 0.9645 - val_loss: 0.0434 - val_accuracy: 0.9884\n",
      "Epoch 12/20\n",
      "491/491 [==============================] - 90s 184ms/step - loss: 0.1467 - accuracy: 0.9621 - val_loss: 0.0401 - val_accuracy: 0.9894\n",
      "Epoch 13/20\n",
      "491/491 [==============================] - 91s 184ms/step - loss: 0.1380 - accuracy: 0.9627 - val_loss: 0.0461 - val_accuracy: 0.9902\n",
      "Epoch 14/20\n",
      "491/491 [==============================] - 90s 183ms/step - loss: 0.1241 - accuracy: 0.9669 - val_loss: 0.0404 - val_accuracy: 0.9907\n",
      "Epoch 15/20\n",
      "491/491 [==============================] - 91s 185ms/step - loss: 0.1219 - accuracy: 0.9678 - val_loss: 0.0367 - val_accuracy: 0.9913\n",
      "Epoch 16/20\n",
      "491/491 [==============================] - 91s 186ms/step - loss: 0.1295 - accuracy: 0.9667 - val_loss: 0.0257 - val_accuracy: 0.9925\n",
      "Epoch 17/20\n",
      "491/491 [==============================] - 91s 186ms/step - loss: 0.1094 - accuracy: 0.9714 - val_loss: 0.0277 - val_accuracy: 0.9934\n",
      "Epoch 18/20\n",
      "491/491 [==============================] - 93s 189ms/step - loss: 0.1180 - accuracy: 0.9701 - val_loss: 0.0359 - val_accuracy: 0.9940\n",
      "Epoch 19/20\n",
      "491/491 [==============================] - 92s 187ms/step - loss: 0.1154 - accuracy: 0.9700 - val_loss: 0.0679 - val_accuracy: 0.9856\n",
      "Epoch 20/20\n",
      "491/491 [==============================] - 92s 186ms/step - loss: 0.1247 - accuracy: 0.9699 - val_loss: 0.0963 - val_accuracy: 0.9758\n"
     ]
    }
   ],
   "source": [
    "epochs = 20\n",
    "history = model.fit(x_train, y_train, epochs=epochs, batch_size=64, validation_data=(x_test, y_test))"
   ]
  },
  {
   "cell_type": "markdown",
   "id": "60ef1f50",
   "metadata": {
    "papermill": {
     "duration": 0.927956,
     "end_time": "2023-10-26T04:55:03.061084",
     "exception": false,
     "start_time": "2023-10-26T04:55:02.133128",
     "status": "completed"
    },
    "tags": []
   },
   "source": [
    "# **Visualizing loss and accuracy model**"
   ]
  },
  {
   "cell_type": "code",
   "execution_count": 7,
   "id": "3fad8af7",
   "metadata": {
    "execution": {
     "iopub.execute_input": "2023-10-26T04:55:04.971324Z",
     "iopub.status.busy": "2023-10-26T04:55:04.970484Z",
     "iopub.status.idle": "2023-10-26T04:55:05.909059Z",
     "shell.execute_reply": "2023-10-26T04:55:05.908054Z"
    },
    "papermill": {
     "duration": 1.866641,
     "end_time": "2023-10-26T04:55:05.911519",
     "exception": false,
     "start_time": "2023-10-26T04:55:04.044878",
     "status": "completed"
    },
    "tags": []
   },
   "outputs": [
    {
     "data": {
      "image/png": "[encoded data removed]",
      "text/plain": [
       "<Figure size 640x480 with 1 Axes>"
      ]
     },
     "metadata": {},
     "output_type": "display_data"
    },
    {
     "data": {
      "image/png": "[encoded data removed]",
      "text/plain": [
       "<Figure size 640x480 with 1 Axes>"
      ]
     },
     "metadata": {},
     "output_type": "display_data"
    }
   ],
   "source": [
    "plt.figure(0) #underfitting\n",
    "plt.plot(history.history['accuracy'], label=\"Training accuracy\")\n",
    "plt.plot(history.history['val_accuracy'], label=\"val accuracy\")\n",
    "plt.title(\"Accuracy\")\n",
    "plt.xlabel(\"epochs\")\n",
    "plt.ylabel(\"accuracy\")\n",
    "plt.legend()\n",
    "plt.savefig('underfitting.png')\n",
    "plt.figure(1) #overfiting\n",
    "plt.plot(history.history['loss'], label=\"training loss\")\n",
    "plt.plot(history.history['val_loss'], label=\"val loss\")\n",
    "plt.title(\"Loss\")\n",
    "plt.xlabel(\"epochs\")\n",
    "plt.ylabel(\"Loss\")\n",
    "plt.legend()\n",
    "plt.savefig('overfiting.png')\n",
    "plt.show()"
   ]
  },
  {
   "cell_type": "markdown",
   "id": "49cd6dfb",
   "metadata": {
    "papermill": {
     "duration": 0.991058,
     "end_time": "2023-10-26T04:55:07.810801",
     "exception": false,
     "start_time": "2023-10-26T04:55:06.819743",
     "status": "completed"
    },
    "tags": []
   },
   "source": [
    "# **Testing the model**"
   ]
  },
  {
   "cell_type": "code",
   "execution_count": 8,
   "id": "4db47257",
   "metadata": {
    "execution": {
     "iopub.execute_input": "2023-10-26T04:55:09.615600Z",
     "iopub.status.busy": "2023-10-26T04:55:09.614983Z",
     "iopub.status.idle": "2023-10-26T04:57:27.312673Z",
     "shell.execute_reply": "2023-10-26T04:57:27.311019Z"
    },
    "papermill": {
     "duration": 138.609149,
     "end_time": "2023-10-26T04:57:27.316348",
     "exception": false,
     "start_time": "2023-10-26T04:55:08.707199",
     "status": "completed"
    },
    "tags": []
   },
   "outputs": [
    {
     "name": "stdout",
     "output_type": "stream",
     "text": [
      "395/395 [==============================] - 8s 19ms/step\n",
      "accuracy:  0.9367379255740301\n"
     ]
    }
   ],
   "source": [
    "from sklearn.metrics import accuracy_score\n",
    "test = pd.read_csv(\"/kaggle/input/gtsrb-german-traffic-sign/Test.csv\")\n",
    "test_labels = test['ClassId'].values.tolist()\n",
    "\n",
    "test_img_path = \"/kaggle/input/gtsrb-german-traffic-sign\"\n",
    "test_imgs = test['Path'].values\n",
    "test_data = []\n",
    "\n",
    "for img in test_imgs:\n",
    "    im = Image.open(test_img_path + '/' + img)\n",
    "    im = im.resize((30,30))\n",
    "    im = np.array(im)\n",
    "    test_data.append(im)\n",
    "test_data = np.array(test_data)\n",
    "predictions = model.predict(test_data)\n",
    "classes_x = np.argmax(predictions, axis = 1).tolist()\n",
    "classes_x = np.array([classes_x]).tolist()[0]\n",
    "\n",
    "print(\"accuracy: \", accuracy_score(test_labels, classes_x))"
   ]
  },
  {
   "cell_type": "markdown",
   "id": "a1706ce9",
   "metadata": {
    "papermill": {
     "duration": 0.919343,
     "end_time": "2023-10-26T04:57:29.167230",
     "exception": false,
     "start_time": "2023-10-26T04:57:28.247887",
     "status": "completed"
    },
    "tags": []
   },
   "source": [
    "# **A few Outputs**"
   ]
  },
  {
   "cell_type": "code",
   "execution_count": 9,
   "id": "2a4438bb",
   "metadata": {
    "execution": {
     "iopub.execute_input": "2023-10-26T04:57:31.078973Z",
     "iopub.status.busy": "2023-10-26T04:57:31.078547Z",
     "iopub.status.idle": "2023-10-26T04:57:31.614047Z",
     "shell.execute_reply": "2023-10-26T04:57:31.612771Z"
    },
    "papermill": {
     "duration": 1.453451,
     "end_time": "2023-10-26T04:57:31.616486",
     "exception": false,
     "start_time": "2023-10-26T04:57:30.163035",
     "status": "completed"
    },
    "tags": []
   },
   "outputs": [
    {
     "data": {
      "image/png": "[encoded data removed]",
      "text/plain": [
       "<Figure size 640x480 with 1 Axes>"
      ]
     },
     "metadata": {},
     "output_type": "display_data"
    },
    {
     "data": {
      "image/png": "[encoded data removed]",
      "text/plain": [
       "<Figure size 640x480 with 1 Axes>"
      ]
     },
     "metadata": {},
     "output_type": "display_data"
    }
   ],
   "source": [
    "number_of_image_test = 25 #20\n",
    "\n",
    "test_image_name = test_imgs[number_of_image_test]\n",
    "image_label = test_labels[number_of_image_test]\n",
    "plt.figure(0)\n",
    "img_path = test_img_path + '/' + test_image_name\n",
    "img = Image.open(img_path)\n",
    "plt.imshow(img)\n",
    "plt.title(\"Test Image\")\n",
    "plt.figure(1)\n",
    "img_pre = Image.open('/kaggle/input/gtsrb-german-traffic-sign/Meta/' + str(classes_x[number_of_image_test]) + '.png')\n",
    "plt.imshow(img_pre)\n",
    "plt.title(\"Predict Image\")\n",
    "plt.show()"
   ]
  }
 ],
 "metadata": {
  "kernelspec": {
   "display_name": "Python 3",
   "language": "python",
   "name": "python3"
  },
  "language_info": {
   "codemirror_mode": {
    "name": "ipython",
    "version": 3
   },
   "file_extension": ".py",
   "mimetype": "text/x-python",
   "name": "python",
   "nbconvert_exporter": "python",
   "pygments_lexer": "ipython3",
   "version": "3.10.12"
  },
  "papermill": {
   "default_parameters": {},
   "duration": 2221.128233,
   "end_time": "2023-10-26T04:57:34.486575",
   "environment_variables": {},
   "exception": null,
   "input_path": "__notebook__.ipynb",
   "output_path": "__notebook__.ipynb",
   "parameters": {},
   "start_time": "2023-10-26T04:20:33.358342",
   "version": "2.4.0"
  }
 },
 "nbformat": 4,
 "nbformat_minor": 5
}
